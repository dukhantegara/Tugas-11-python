{
  "nbformat": 4,
  "nbformat_minor": 0,
  "metadata": {
    "colab": {
      "name": "Untitled3.ipynb",
      "provenance": [],
      "authorship_tag": "ABX9TyOt/GX10Qf85rr73jQMOqS8",
      "include_colab_link": true
    },
    "kernelspec": {
      "name": "python3",
      "display_name": "Python 3"
    }
  },
  "cells": [
    {
      "cell_type": "markdown",
      "metadata": {
        "id": "view-in-github",
        "colab_type": "text"
      },
      "source": [
        "<a href=\"https://colab.research.google.com/github/dukhantegara/Tugas-11-python/blob/main/Untitled3.ipynb\" target=\"_parent\"><img src=\"https://colab.research.google.com/assets/colab-badge.svg\" alt=\"Open In Colab\"/></a>"
      ]
    },
    {
      "cell_type": "code",
      "metadata": {
        "id": "LnnihfBPcLcr"
      },
      "source": [
        "import numpy as np\r\n",
        "import matplotlib.pyplot as plt"
      ],
      "execution_count": 1,
      "outputs": []
    },
    {
      "cell_type": "code",
      "metadata": {
        "id": "QasCx2V-cT33"
      },
      "source": [
        "def cos(frek,tipe,ht,hr,d):\r\n",
        "  #frek = frekuensi (MHz)\r\n",
        "  #tipe = urban, suburban, open\r\n",
        "  #ht = tinggi tower (meter)\r\n",
        "  #hr = tinggi user (meter)\r\n",
        "  #d = jarak (meter)\r\n",
        "    if frek in range(150,1501):\r\n",
        "        Ca=69.55\r\n",
        "        Cb=26.16\r\n",
        "    elif frek in range(1501,2001):\r\n",
        "        Ca=46.3\r\n",
        "        Cb=33.9\r\n",
        "    \r\n",
        "    if tipe=='urban' :\r\n",
        "        Cm=0\r\n",
        "    elif tipe=='suburban' :\r\n",
        "        Cm= -2*((np.log10((frek/28)**2))-5.4)\r\n",
        "    elif tipe=='open' :\r\n",
        "        Cm= -4.78*(np.log10(frek))+18.33*(np.log10(frek))-40.94\r\n",
        "    else :\r\n",
        "        Cm='tipe salah'\r\n",
        "    \r\n",
        "    ahr = (1.1*np.log10(frek)-0.7)*hr-(1.56*np.log10(frek)-1.8)\r\n",
        "    Lp = Ca+(Cb*np.log10(frek))-(13.83*np.log(ht))-ahr+((44.9-6.55*np.log10(ht))*np.log10(d))-Cm\r\n",
        "    \r\n",
        "    return Lp"
      ],
      "execution_count": 3,
      "outputs": []
    },
    {
      "cell_type": "code",
      "metadata": {
        "id": "nw15qpjzcfmn"
      },
      "source": [
        "f=1800 #MHz\r\n",
        "loc='urban'\r\n",
        "tower=80 #m\r\n",
        "user=1.5 #m\r\n",
        "dmin=200 #m\r\n",
        "dmax=700 #m\r\n",
        "N=200 #titik\r\n",
        "d=np.random.randint(dmin,dmax,N)"
      ],
      "execution_count": 4,
      "outputs": []
    },
    {
      "cell_type": "code",
      "metadata": {
        "colab": {
          "base_uri": "https://localhost:8080/"
        },
        "id": "2TgxrcMncsia",
        "outputId": "f91453fa-f665-4d00-8658-1ae584c57207"
      },
      "source": [
        "print(d)"
      ],
      "execution_count": 5,
      "outputs": [
        {
          "output_type": "stream",
          "text": [
            "[432 564 672 385 244 346 207 311 300 471 638 551 508 214 499 558 334 546\n",
            " 203 650 483 591 376 288 569 326 286 332 295 546 633 209 293 242 207 544\n",
            " 582 665 544 565 321 422 276 668 601 495 377 530 234 403 569 344 242 436\n",
            " 581 436 626 628 436 679 666 617 385 235 276 284 619 474 275 379 491 435\n",
            " 673 253 308 575 476 639 309 401 278 658 244 583 224 234 289 300 242 216\n",
            " 265 203 683 377 474 578 214 429 219 309 383 433 561 581 373 359 404 631\n",
            " 440 488 599 546 596 215 289 695 576 635 642 349 256 340 675 508 381 438\n",
            " 332 201 581 212 605 353 495 438 247 282 429 676 293 261 239 630 667 349\n",
            " 210 496 304 580 617 387 256 284 433 627 641 344 513 325 488 259 520 271\n",
            " 552 260 668 609 515 273 385 635 532 496 283 616 370 699 395 572 230 534\n",
            " 233 645 499 244 201 488 411 455 338 568 444 526 593 345 613 468 238 467\n",
            " 227 495]\n"
          ],
          "name": "stdout"
        }
      ]
    },
    {
      "cell_type": "code",
      "metadata": {
        "id": "1SdcGdhLc1Hi"
      },
      "source": [
        "LpUrban=cos(f,loc,tower,user,d)"
      ],
      "execution_count": 6,
      "outputs": []
    },
    {
      "cell_type": "code",
      "metadata": {
        "colab": {
          "base_uri": "https://localhost:8080/"
        },
        "id": "E2prooM7c6U1",
        "outputId": "c9be8ed1-081f-43d9-8c38-84d77412a31a"
      },
      "source": [
        "print(LpUrban)"
      ],
      "execution_count": 7,
      "outputs": [
        {
          "output_type": "stream",
          "text": [
            "[180.48861939 184.24441408 186.7123805  178.8661348  172.44175248\n",
            " 177.36166041 170.12527872 175.85942145 175.35216988 181.7061282\n",
            " 185.98102224 183.91593088 182.77137672 170.59374784 182.51958027\n",
            " 184.0937577  176.86444747 183.78752308 169.85041658 186.24350631\n",
            " 182.06051765 184.90311142 178.53293625 174.77714157 184.36874179\n",
            " 176.5229462  174.67897923 176.77984519 175.11542082 183.78752308\n",
            " 185.87019368 170.26072435 175.0195957  172.32581571 170.12527872\n",
            " 183.73583041 184.68695008 186.56487928 183.73583041 184.26936756\n",
            " 176.30522567 180.15871585 174.17763673 186.62828331 185.13946324\n",
            " 182.40620954 178.57034992 183.36857064 171.85228415 179.50978046\n",
            " 184.36874179 177.28000084 172.32581571 180.61844739 184.66272611\n",
            " 180.61844739 185.713554   185.75848621 180.61844739 186.85835318\n",
            " 186.58604568 185.5095663  178.8661348  171.91235348 174.17763673\n",
            " 174.58012804 185.55515287 181.79556493 174.12650695 178.64488045\n",
            " 182.29191895 180.5861024  186.73332658 172.9519738  175.72288173\n",
            " 184.51650088 181.85487549 186.0030837  175.76854219 179.43969953\n",
            " 174.27934286 186.41581717 172.44175248 184.71113247 171.23706683\n",
            " 171.85228415 174.82596739 175.35216988 172.32581571 170.72478356\n",
            " 173.6047348  169.85041658 186.94109196 178.57034992 181.79556493\n",
            " 184.58980323 170.59374784 180.39045706 170.91907957 175.76854219\n",
            " 178.79276882 180.52118874 184.1692873  184.66272611 178.42009529\n",
            " 177.88121175 179.54469061 185.82561694 180.74708972 182.20558832\n",
            " 185.09250907 183.78752308 185.02178304 170.65941807 174.82596739\n",
            " 187.18643176 184.5409774  185.91462979 186.06906151 177.48326897\n",
            " 173.11802175 177.11524764 186.77512553 182.77137672 178.71901871\n",
            " 180.68291541 176.77984519 169.71094774 184.66272611 170.46148173\n",
            " 185.23290462 177.64379763 182.40620954 180.68291541 172.61388787\n",
            " 174.48057824 180.39045706 186.79597859 175.0195957  173.39049132\n",
            " 172.15010153 185.80327556 186.60718033 177.48326897 170.32796189\n",
            " 182.43463788 175.53874529 184.63846041 185.5095663  178.93912065\n",
            " 173.11802175 174.58012804 180.52118874 185.73603802 186.04710322\n",
            " 177.28000084 182.90934294 176.47967047 182.20558832 173.28213511\n",
            " 183.10025324 173.9201115  183.94147257 173.3364174  186.62828331\n",
            " 185.32573025 182.96415327 174.02368724 178.8661348  185.91462979\n",
            " 183.42162621 182.43463788 174.53044108 185.48671757 178.30634309\n",
            " 187.26727123 179.22734017 184.44281507 171.60941197 183.4744827\n",
            " 171.79195756 186.13473173 182.51958027 172.44175248 169.71094774\n",
            " 182.20558832 179.78666874 181.21929832 177.03214275 184.34396388\n",
            " 180.87456785 183.26185621 184.95070011 177.3208898  185.41794817\n",
            " 181.61611999 172.09103965 181.58598899 171.42446965 182.40620954]\n"
          ],
          "name": "stdout"
        }
      ]
    },
    {
      "cell_type": "code",
      "metadata": {
        "id": "u9Fe0rpEdFVY"
      },
      "source": [
        "d_sort=d[np.argsort(d)]\r\n",
        "Urban_sort=LpUrban[np.argsort(d)]"
      ],
      "execution_count": 8,
      "outputs": []
    },
    {
      "cell_type": "code",
      "metadata": {
        "id": "n6kwMoLadNBS"
      },
      "source": [
        "f=1800 #MHz\r\n",
        "loc='suburban'\r\n",
        "tower=80 #m\r\n",
        "user=1.5 #m\r\n",
        "dmin=200 #m\r\n",
        "dmax=700 #m\r\n",
        "N=200 #titik\r\n",
        "a=np.random.randint(dmin,dmax,N)"
      ],
      "execution_count": 9,
      "outputs": []
    },
    {
      "cell_type": "code",
      "metadata": {
        "colab": {
          "base_uri": "https://localhost:8080/"
        },
        "id": "kVLokFPPdQxB",
        "outputId": "7f7162d9-666e-478c-ccc4-c634286eb2fe"
      },
      "source": [
        "print(a)"
      ],
      "execution_count": 10,
      "outputs": [
        {
          "output_type": "stream",
          "text": [
            "[605 411 627 569 269 322 439 595 245 371 214 537 455 667 639 555 517 390\n",
            " 552 339 519 478 287 520 265 301 457 205 644 424 606 586 346 521 571 375\n",
            " 461 570 681 207 354 354 346 253 384 641 428 298 585 686 426 222 336 568\n",
            " 697 336 489 253 524 310 599 415 202 332 522 296 469 562 203 301 615 374\n",
            " 539 560 549 425 560 389 465 663 387 215 553 683 476 500 415 386 590 375\n",
            " 240 543 381 642 260 611 445 297 512 694 579 348 474 480 563 225 315 627\n",
            " 591 302 200 588 477 524 376 273 439 618 285 352 242 496 209 628 651 205\n",
            " 312 285 536 572 246 488 355 599 686 680 474 262 449 616 654 326 630 247\n",
            " 263 357 434 691 487 227 214 253 545 424 486 416 329 653 271 677 534 657\n",
            " 640 691 559 480 668 548 411 477 223 617 571 623 672 469 623 385 612 249\n",
            " 256 371 542 204 564 413 678 216 412 595 669 538 376 612 413 238 519 684\n",
            " 616 240]\n"
          ],
          "name": "stdout"
        }
      ]
    },
    {
      "cell_type": "code",
      "metadata": {
        "id": "Cn0y0YAYdWYM"
      },
      "source": [
        "Lpsuburban=cos(f,loc,tower,user,a)"
      ],
      "execution_count": 11,
      "outputs": []
    },
    {
      "cell_type": "code",
      "metadata": {
        "colab": {
          "base_uri": "https://localhost:8080/"
        },
        "id": "2tKIzXmOdZ7V",
        "outputId": "3f94d6dd-0cfa-42ba-d92a-8002901aa2f9"
      },
      "source": [
        "print(Lpsuburban)"
      ],
      "execution_count": 12,
      "outputs": [
        {
          "output_type": "stream",
          "text": [
            "[181.66536252 176.21912664 182.16849591 180.80119968 170.24822642\n",
            " 172.78149772 177.147497   181.43058646 168.93182288 174.77682055\n",
            " 167.02620574 179.9858553  177.65175622 183.03963822 182.43554159\n",
            " 180.45027882 179.45120905 175.48035312 180.37393046 173.50621438\n",
            " 179.50559614 178.34639527 171.1606038  179.53271113 170.0371927\n",
            " 171.83150381 177.71353806 166.42097595 182.54533355 176.65777546\n",
            " 181.68862633 181.21588943 173.79411831 179.55977404 180.85062513\n",
            " 174.92788084 177.83629472 180.82593408 183.33224121 166.55773661\n",
            " 174.11610347 174.11610347 173.79411831 169.3844317  175.26195747\n",
            " 182.47956112 176.79004158 171.6904051  181.19183095 183.43528657\n",
            " 176.72406376 167.54318991 173.38100255 180.77642177 183.65936738\n",
            " 173.38100255 178.66688192 169.3844317  179.64065218 172.24651301\n",
            " 181.52496696 176.35555615 166.21331267 173.21230308 179.58678505\n",
            " 171.59554792 178.07864457 180.626832   166.28287448 171.83150381\n",
            " 181.89628962 174.89026737 180.03822055 180.57661363 180.29716603\n",
            " 176.69095861 180.57661363 175.44418818 177.95799083 182.95490872\n",
            " 175.37157855 167.09187596 180.39942592 183.37354986 178.28733339\n",
            " 178.98023885 176.35555615 175.33513289 181.31171455 174.92788084\n",
            " 168.6413747  180.14237066 175.15147661 182.50151941 169.7688753\n",
            " 181.80437257 177.33871583 171.64305635 179.31431548 183.5986071\n",
            " 181.04661072 173.87530722 178.22802283 178.40521054 180.65187421\n",
            " 167.73226976 172.47189761 182.16849591 181.33556932 171.87822438\n",
            " 166.07314994 181.26388348 178.31689528 179.64065218 174.96539415\n",
            " 170.45614514 177.147497   181.96483592 171.06209824 174.03629454\n",
            " 168.75827361 178.86709577 166.69318225 182.19094411 182.69761869\n",
            " 166.42097595 172.33710005 171.06209824 179.95959949 180.87527297\n",
            " 168.98920071 178.63804621 174.155839   181.52496696 183.43528657\n",
            " 183.31154137 178.22802283 169.87681634 177.46476802 181.91917547\n",
            " 182.76238311 172.95540409 182.23573345 169.04634577 169.93047826\n",
            " 174.23497538 176.98614086 183.53758359 178.60915136 167.85692755\n",
            " 167.02620574 169.3844317  180.19415835 176.65777546 178.58019711\n",
            " 176.38945806 173.08443923 182.74082804 170.3525694  183.24925872\n",
            " 179.90694059 182.82685113 182.45756855 183.53758359 180.55143715\n",
            " 178.40521054 183.0607412  180.27148464 176.21912664 178.31689528\n",
            " 167.60649895 181.94202419 180.85062513 182.07834369 183.14483839\n",
            " 178.07864457 182.07834369 175.2985927  181.82740812 169.15994507\n",
            " 169.55047964 174.77682055 180.11640523 166.35209446 180.67687198\n",
            " 176.28750656 183.27005022 167.15724145 176.25335809 181.43058646\n",
            " 183.08181262 180.01206226 174.96539415 181.82740812 176.28750656\n",
            " 168.52349755 179.50559614 183.39415884 181.91917547 168.6413747 ]\n"
          ],
          "name": "stdout"
        }
      ]
    },
    {
      "cell_type": "code",
      "metadata": {
        "id": "bE0tEdrrdfAH"
      },
      "source": [
        "a_sort=a[np.argsort(a)]\r\n",
        "suburban_sort=Lpsuburban[np.argsort(a)]"
      ],
      "execution_count": 13,
      "outputs": []
    },
    {
      "cell_type": "code",
      "metadata": {
        "id": "unGDrjL-dkEA"
      },
      "source": [
        "f=1800 #MHz\r\n",
        "loc='open'\r\n",
        "tower=80 #m\r\n",
        "user=1.5 #m\r\n",
        "dmin=200 #m\r\n",
        "dmax=700 #m\r\n",
        "N=200 #titik\r\n",
        "b=np.random.randint(dmin,dmax,N)"
      ],
      "execution_count": 14,
      "outputs": []
    },
    {
      "cell_type": "code",
      "metadata": {
        "colab": {
          "base_uri": "https://localhost:8080/"
        },
        "id": "e6jkOBncds6E",
        "outputId": "dc75dc4d-2e76-49a7-d118-2153abc290a1"
      },
      "source": [
        "print(b)"
      ],
      "execution_count": 15,
      "outputs": [
        {
          "output_type": "stream",
          "text": [
            "[436 463 601 314 397 306 500 409 332 250 663 235 233 249 514 214 357 549\n",
            " 618 681 505 461 310 426 280 510 581 646 348 403 503 654 659 584 346 308\n",
            " 572 622 661 223 528 554 415 213 511 371 230 280 341 591 507 576 440 274\n",
            " 205 674 666 501 506 347 255 687 549 615 376 569 322 420 365 473 646 673\n",
            " 659 480 601 622 212 488 561 230 200 564 461 349 299 666 367 278 408 698\n",
            " 462 696 518 390 415 304 347 363 473 561 584 525 593 263 281 279 408 519\n",
            " 359 624 566 387 544 581 696 357 544 660 640 626 443 626 380 692 424 200\n",
            " 222 675 622 493 259 235 283 600 546 380 323 413 524 238 659 202 647 411\n",
            " 311 571 413 319 673 603 491 440 392 380 276 289 548 245 615 375 396 478\n",
            " 264 680 370 359 371 619 362 354 231 220 222 585 478 520 652 467 230 637\n",
            " 675 573 697 529 500 237 295 652 482 386 450 581 587 535 408 357 493 529\n",
            " 312 555]\n"
          ],
          "name": "stdout"
        }
      ]
    },
    {
      "cell_type": "code",
      "metadata": {
        "id": "hmwgZsJmd111"
      },
      "source": [
        "Lpopen=cos(f,loc,tower,user,b)"
      ],
      "execution_count": 16,
      "outputs": []
    },
    {
      "cell_type": "code",
      "metadata": {
        "colab": {
          "base_uri": "https://localhost:8080/"
        },
        "id": "1icdB-UheBrV",
        "outputId": "c50ff98f-ecd2-4e75-a3c5-dc8d9a855b7f"
      },
      "source": [
        "print(Lpopen)"
      ],
      "execution_count": 17,
      "outputs": [
        {
          "output_type": "stream",
          "text": [
            "[177.44950494 178.29587386 181.97052079 172.82570793 176.12954049\n",
            " 172.46217195 179.37883851 176.54901281 173.61090274 169.61500267\n",
            " 183.35350838 168.74341104 168.62301511 169.55854473 179.76783232\n",
            " 167.4248054  174.63357504 180.69576569 182.36343558 183.73084087\n",
            " 179.51900124 178.23489438 172.64511267 177.12266342 171.21137746\n",
            " 179.65778303 181.49378367 182.98761151 174.27390688 176.34083802\n",
            " 179.4631034  183.16098277 183.26826614 181.56633097 174.19271797\n",
            " 172.55393929 181.27387263 182.45431485 183.31095174 168.00509861\n",
            " 180.14637203 180.82347498 176.75415581 167.35882758 179.68537606\n",
            " 175.17542021 168.44046952 171.21137746 173.9876745  181.73416898\n",
            " 179.57467814 181.37203496 177.57814728 170.90624847 166.81957561\n",
            " 183.58529912 183.41710324 179.40698285 179.5468672  174.23337092\n",
            " 169.89394719 183.85440515 180.69576569 182.29488928 175.36399381\n",
            " 181.19979934 173.18009738 176.92285529 174.9457482  178.59687329\n",
            " 182.98761151 183.56438414 183.26826614 178.8038102  181.97052079\n",
            " 182.45431485 167.29253929 179.03664588 181.00034486 168.44046952\n",
            " 166.4717496  181.07547164 178.23489438 174.31432653 172.13619488\n",
            " 183.41710324 175.02272237 171.11040041 176.51452995 184.07816237\n",
            " 178.26541712 184.03774272 179.8770285  175.87895279 176.75415581\n",
            " 172.36980284 174.23337092 174.8683511  178.59687329 181.00034486\n",
            " 181.56633097 180.06610836 181.78175766 170.32907792 171.26159583\n",
            " 171.16097942 176.51452995 179.9041958  174.71226931 182.49953555\n",
            " 181.12533448 175.77017821 180.56688796 181.49378367 184.03774272\n",
            " 174.63357504 180.56688796 183.2896251  182.85616821 182.54461155\n",
            " 177.67386387 182.54461155 175.51305591 183.95655381 177.05637512\n",
            " 166.4717496  167.94178957 183.60618309 182.45431485 179.18023772\n",
            " 170.11319266 168.74341104 171.36149864 181.94706327 180.61858064\n",
            " 175.51305591 173.22377567 176.68610622 180.03925184 168.92209721\n",
            " 183.26826614 166.61191233 183.00939997 176.6177263  172.69047901\n",
            " 181.24922479 176.68610622 173.04824396 183.56438414 182.01731897\n",
            " 179.12297651 177.57814728 175.95100531 175.51305591 171.00869428\n",
            " 171.65702495 180.67008431 169.33042254 182.29488928 175.3264805\n",
            " 176.09401402 178.74499493 170.3825362  183.71014103 175.13740065\n",
            " 174.71226931 175.17542021 182.38621042 174.82949249 174.51470313\n",
            " 168.50158128 167.81431144 167.94178957 181.59043061 178.74499493\n",
            " 179.9313108  183.11783959 178.41704654 168.44046952 182.78998373\n",
            " 183.60618309 181.29847742 184.05796704 180.17302528 179.37883851\n",
            " 168.86278665 171.94647837 183.11783959 178.86238092 175.73373256\n",
            " 177.89470526 181.49378367 181.63850656 180.33189431 176.51452995\n",
            " 174.63357504 179.18023772 180.17302528 172.73569972 180.84887848]\n"
          ],
          "name": "stdout"
        }
      ]
    },
    {
      "cell_type": "code",
      "metadata": {
        "id": "nXixBwjPeHEx"
      },
      "source": [
        "b_sort=b[np.argsort(b)]\r\n",
        "open_sort=Lpopen[np.argsort(b)]"
      ],
      "execution_count": 18,
      "outputs": []
    },
    {
      "cell_type": "code",
      "metadata": {
        "colab": {
          "base_uri": "https://localhost:8080/",
          "height": 295
        },
        "id": "CL_j8nhreOSO",
        "outputId": "8e9c0cd4-41cf-412f-a890-b93ccfbcea80"
      },
      "source": [
        "plt.figure()\r\n",
        "plt.plot(d_sort,Urban_sort, label='Urban')\r\n",
        "plt.plot(b_sort,open_sort, label='Open')\r\n",
        "plt.plot(a_sort,suburban_sort, label='Suburban')\r\n",
        "plt.legend()\r\n",
        "plt.title('FREKUENSI 1800 MHZ (GAMBAR CONTOH)')\r\n",
        "plt.xlabel('Jarak (m)')\r\n",
        "plt.ylabel('Path Loss (dB)')\r\n",
        "plt.show()"
      ],
      "execution_count": 19,
      "outputs": [
        {
          "output_type": "display_data",
          "data": {
            "image/png": "[encoded data removed]",
            "text/plain": [
              "<Figure size 432x288 with 1 Axes>"
            ]
          },
          "metadata": {
            "tags": [],
            "needs_background": "light"
          }
        }
      ]
    },
    {
      "cell_type": "code",
      "metadata": {
        "id": "Lrjz2csAeYmV"
      },
      "source": [
        "f=1800 #MHz\r\n",
        "loc='urban'\r\n",
        "tower=80 #m\r\n",
        "user=1.5 #m\r\n",
        "dmin=200 #m\r\n",
        "dmax=700 #m\r\n",
        "N=200 #titik\r\n",
        "x=np.random.randint(dmin,dmax,N)"
      ],
      "execution_count": 20,
      "outputs": []
    },
    {
      "cell_type": "code",
      "metadata": {
        "colab": {
          "base_uri": "https://localhost:8080/"
        },
        "id": "nuzmavtBetk-",
        "outputId": "87953690-0f82-47ef-d982-da45912936d6"
      },
      "source": [
        "print(x)"
      ],
      "execution_count": 21,
      "outputs": [
        {
          "output_type": "stream",
          "text": [
            "[482 479 494 562 478 344 201 623 677 446 413 558 306 683 384 475 488 574\n",
            " 362 585 433 363 521 216 640 626 299 437 568 445 426 477 313 468 317 418\n",
            " 517 303 244 348 636 465 600 365 286 672 409 686 417 277 274 336 584 350\n",
            " 567 440 462 218 520 398 332 358 637 410 382 445 396 689 515 604 538 400\n",
            " 293 416 224 231 406 511 588 608 203 557 371 550 615 528 692 213 376 294\n",
            " 579 686 612 239 401 412 608 693 605 205 521 655 626 355 279 514 685 297\n",
            " 582 334 282 495 204 544 587 494 574 247 685 696 300 375 355 279 412 504\n",
            " 470 332 662 272 487 520 353 622 410 612 316 355 572 303 216 313 530 528\n",
            " 687 685 667 316 470 293 294 579 522 326 614 600 338 514 585 353 453 635\n",
            " 350 305 662 674 551 464 236 554 693 239 335 215 235 535 292 232 487 692\n",
            " 578 224 201 574 353 512 226 427 557 687 248 690 682 584 216 489 489 686\n",
            " 393 483]\n"
          ],
          "name": "stdout"
        }
      ]
    },
    {
      "cell_type": "code",
      "metadata": {
        "id": "8hzHskI_fAle"
      },
      "source": [
        "LpUrban1=cos(f,loc,tower,user,x)"
      ],
      "execution_count": 23,
      "outputs": []
    },
    {
      "cell_type": "code",
      "metadata": {
        "colab": {
          "base_uri": "https://localhost:8080/"
        },
        "id": "E-d_ugxvfFyB",
        "outputId": "a5dc0db3-45d2-42b2-8b3d-c16ca7b5ad23"
      },
      "source": [
        "print(LpUrban1)"
      ],
      "execution_count": 24,
      "outputs": [
        {
          "output_type": "stream",
          "text": [
            "[182.03132336 181.94337571 182.37772371 184.19437411 181.91393737\n",
            " 177.28000084 169.71094774 185.64588579 186.81680082 180.93787689\n",
            " 179.85504867 184.0937577  175.63111439 186.94109196 178.82949958\n",
            " 181.82525143 182.20558832 184.49198175 177.99843493 184.75937306\n",
            " 180.52118874 178.03729354 183.12731614 170.72478356 186.02511066\n",
            " 185.713554   175.30513732 180.65071828 184.34396388 180.90625794\n",
            " 180.29160587 181.88443739 175.94971816 181.61611999 176.12859342\n",
            " 180.02456019 183.01875116 175.4923326  172.44175248 177.44284933\n",
            " 185.9367954  181.52553294 185.11600572 178.11469065 174.67897923\n",
            " 186.7123805  179.71795525 187.00282867 179.99082068 174.22858158\n",
            " 174.07519091 176.94854466 184.73527342 177.52357297 184.31914231\n",
            " 180.74708972 181.43435956 170.85461155 183.10025324 179.33392003\n",
            " 176.77984519 177.84191957 185.95892618 179.75235389 178.75594203\n",
            " 180.90625794 179.26295647 187.06429599 182.96415327 185.20960232\n",
            " 183.57960436 179.40452789 175.0195957  179.95700017 171.23706683\n",
            " 171.67052372 179.61425242 182.8543185  184.83142558 185.30258113\n",
            " 169.85041658 184.0684909  178.34436265 183.89034279 185.46383172\n",
            " 183.31531448 187.12549625 170.52777003 178.53293625 175.06758974\n",
            " 184.61415283 187.00282867 185.39495023 172.15010153 179.43969953\n",
            " 179.8209002  185.30258113 187.14583739 185.23290462 169.98851806\n",
            " 183.12731614 186.35144736 185.713554   177.72338111 174.32992186\n",
            " 182.93677476 186.98227982 175.21059846 184.68695008 176.86444747\n",
            " 174.48057824 182.40620954 169.91963656 183.73583041 184.807449\n",
            " 182.37772371 184.49198175 172.61388787 186.98227982 187.20668516\n",
            " 175.35216988 178.49542295 177.72338111 174.32992186 179.8209002\n",
            " 182.66002249 181.67618932 176.77984519 186.50118857 173.97199457\n",
            " 182.17669346 183.10025324 177.64379763 185.62325729 179.75235389\n",
            " 185.39495023 176.0840871  177.72338111 184.44281507 175.4923326\n",
            " 170.72478356 175.94971816 183.36857064 183.31531448 187.0233476\n",
            " 186.98227982 186.60718033 176.0840871  181.67618932 175.0195957\n",
            " 175.06758974 184.61415283 183.15432715 176.5229462  185.44090863\n",
            " 185.11600572 177.03214275 182.93677476 184.75937306 177.64379763\n",
            " 181.15724431 185.91462979 177.52357297 175.58500555 186.50118857\n",
            " 186.75424156 183.91593088 181.49520734 171.97216775 183.99241742\n",
            " 187.14583739 172.15010153 176.90655882 170.65941807 171.91235348\n",
            " 183.50083675 174.97143758 171.7313715  182.17669346 187.12549625\n",
            " 184.58980323 171.23706683 169.71094774 184.49198175 177.64379763\n",
            " 182.88185758 171.36227866 180.3246334  184.0684909  187.0233476\n",
            " 172.67080204 187.08472564 186.92045278 184.73527342 170.72478356\n",
            " 182.23442403 182.23442403 187.00282867 179.15583628 182.06051765]\n"
          ],
          "name": "stdout"
        }
      ]
    },
    {
      "cell_type": "code",
      "metadata": {
        "id": "P67o2JcOfLx6"
      },
      "source": [
        "x_sort=x[np.argsort(x)]\r\n",
        "Urban_sort1=LpUrban1[np.argsort(x)]"
      ],
      "execution_count": 25,
      "outputs": []
    },
    {
      "cell_type": "code",
      "metadata": {
        "id": "Ieo6shO7fRaF"
      },
      "source": [
        "f=900 #MHz\r\n",
        "loc='urban'\r\n",
        "tower=80 #m\r\n",
        "user=1.5 #m\r\n",
        "dmin=200 #m\r\n",
        "dmax=700 #m\r\n",
        "N=200 #titik\r\n",
        "y=np.random.randint(dmin,dmax,N)"
      ],
      "execution_count": 26,
      "outputs": []
    },
    {
      "cell_type": "code",
      "metadata": {
        "colab": {
          "base_uri": "https://localhost:8080/"
        },
        "id": "YQJDDoOAfWNL",
        "outputId": "971d5028-06ce-429a-f9b0-e5ffada2e428"
      },
      "source": [
        "print(y)"
      ],
      "execution_count": 27,
      "outputs": [
        {
          "output_type": "stream",
          "text": [
            "[630 251 627 613 201 291 414 215 652 587 338 293 653 224 598 428 550 363\n",
            " 649 260 310 666 645 524 492 271 424 583 615 327 669 347 352 415 356 687\n",
            " 631 561 635 697 380 385 214 251 272 524 230 618 410 570 671 680 468 633\n",
            " 442 423 334 203 410 416 613 607 464 591 555 665 541 646 329 637 673 218\n",
            " 623 249 313 212 432 669 403 475 350 491 506 414 585 431 237 284 457 468\n",
            " 598 656 578 584 200 342 485 495 280 229 679 669 215 514 464 391 616 398\n",
            " 368 482 436 641 642 356 294 524 565 653 680 370 448 375 528 314 678 495\n",
            " 420 696 659 540 221 230 617 457 297 279 421 270 243 354 476 626 486 366\n",
            " 491 536 381 413 628 336 450 685 350 486 316 393 291 592 233 679 256 287\n",
            " 364 559 582 291 218 245 388 629 352 438 324 678 271 236 621 284 363 677\n",
            " 579 241 604 442 392 222 285 623 261 339 349 427 299 396 436 508 500 460\n",
            " 232 232]\n"
          ],
          "name": "stdout"
        }
      ]
    },
    {
      "cell_type": "code",
      "metadata": {
        "id": "wz6DfUVxfbnY"
      },
      "source": [
        "LpUrban2=cos(f,loc,tower,user,y)"
      ],
      "execution_count": 28,
      "outputs": []
    },
    {
      "cell_type": "code",
      "metadata": {
        "colab": {
          "base_uri": "https://localhost:8080/"
        },
        "id": "GY6vxjwmfhIj",
        "outputId": "06231026-6005-452e-eafd-602a5b9cfc6b"
      },
      "source": [
        "print(LpUrban2)"
      ],
      "execution_count": 29,
      "outputs": [
        {
          "output_type": "stream",
          "text": [
            "[176.00961438 163.0465165  175.94237684 175.624287   159.91728657\n",
            " 165.12945307 170.09545338 160.86575689 176.49312086 175.01378782\n",
            " 167.23848158 165.22593453 176.51470897 161.44340565 175.27531198\n",
            " 170.5639225  174.09668161 168.24363237 176.42815731 163.54275622\n",
            " 166.02039393 176.79238451 176.34107056 173.41453311 172.52691748\n",
            " 164.12645032 170.43165639 174.9174713  175.67017055 166.7724282\n",
            " 176.85569354 167.60865219 167.81017547 170.12943708 167.96934369\n",
            " 177.22968642 176.03195576 174.37562613 176.12096862 177.43324831\n",
            " 168.88833718 169.07247363 160.80008667 163.0465165  164.17833339\n",
            " 173.41453311 161.81575079 175.73871685 169.95869272 174.59981501\n",
            " 176.89774205 177.0854223  171.82245881 176.0765325  171.01731182\n",
            " 170.39839489 167.07078629 160.0567554  169.95869272 170.16333899\n",
            " 175.624287   175.48573272 171.70154616 175.10945025 174.22415975\n",
            " 176.7712181  173.86427279 176.36289277 166.85832016 176.165265\n",
            " 176.9396654  161.06095037 175.85222462 162.933826   166.15605698\n",
            " 160.66782055 170.69495822 176.85569354 169.71611929 172.03159025\n",
            " 167.72991179 172.49825778 172.92214846 170.09545338 174.96571188\n",
            " 170.66231339 162.23806792 164.78646686 171.48741899 171.82245881\n",
            " 175.27531198 176.57927549 174.79614206 174.94161224 159.84703087\n",
            " 167.40420393 172.32506415 172.61254836 164.58665872 161.75437275\n",
            " 177.064692   176.85569354 160.86575689 173.14311358 171.70154616\n",
            " 169.29030638 175.6930564  169.54025886 168.43633356 172.23766219\n",
            " 170.82478621 176.25344205 176.27540033 167.96934369 165.27392857\n",
            " 173.41453311 174.47570639 176.51470897 177.0854223  168.51268192\n",
            " 171.20724149 168.70176177 173.5216533  166.2009892  177.04393115\n",
            " 172.61254836 170.29813655 177.41302399 176.6435474  173.83821129\n",
            " 161.25347598 161.81575079 175.71590512 171.48741899 165.41693728\n",
            " 164.53626068 170.33163535 164.07437545 162.5902422  167.8899844\n",
            " 172.06121432 175.91989282 172.35407804 168.35956913 172.49825778\n",
            " 173.73348041 168.92535754 170.06138749 175.96482504 167.15488348\n",
            " 171.26998653 177.18861864 167.72991179 172.35407804 166.29042593\n",
            " 169.3621751  165.12945307 175.13326469 161.99829638 177.064692\n",
            " 163.32436057 164.93448473 168.28238408 174.32531808 174.89328891\n",
            " 165.12945307 161.06095037 162.70570381 169.18181108 175.98723751\n",
            " 167.81017547 170.88925423 166.64260021 177.04393115 164.12645032\n",
            " 162.17850657 175.80693121 164.78646686 168.24363237 177.02313965\n",
            " 174.82049165 162.47382635 175.41594115 171.01731182 169.32628658\n",
            " 161.31707084 164.83597917 175.85222462 163.59683014 167.28009531\n",
            " 167.6896078  170.53097223 165.51147614 169.46929529 170.82478621\n",
            " 172.97771555 172.75411978 171.57958663 161.93771032 161.93771032]\n"
          ],
          "name": "stdout"
        }
      ]
    },
    {
      "cell_type": "code",
      "metadata": {
        "id": "PCT4mb8efk06"
      },
      "source": [
        "y_sort=y[np.argsort(y)]\r\n",
        "Urban_sort2=LpUrban2[np.argsort(y)]"
      ],
      "execution_count": 30,
      "outputs": []
    },
    {
      "cell_type": "code",
      "metadata": {
        "id": "oxbaSPGKfrB1"
      },
      "source": [
        "f=700 #MHz\r\n",
        "loc='urban'\r\n",
        "tower=80 #m\r\n",
        "user=1.5 #m\r\n",
        "dmin=200 #m\r\n",
        "dmax=700 #m\r\n",
        "N=200 #titik\r\n",
        "z=np.random.randint(dmin,dmax,N)"
      ],
      "execution_count": 31,
      "outputs": []
    },
    {
      "cell_type": "code",
      "metadata": {
        "colab": {
          "base_uri": "https://localhost:8080/"
        },
        "id": "VpwTTawefwaM",
        "outputId": "d03daa67-647c-4abd-d728-3536b8fdd652"
      },
      "source": [
        "print(z)"
      ],
      "execution_count": 32,
      "outputs": [
        {
          "output_type": "stream",
          "text": [
            "[287 375 449 313 370 658 341 518 228 594 217 501 346 272 461 645 206 477\n",
            " 435 285 359 214 336 636 321 539 435 551 526 615 425 382 613 402 397 306\n",
            " 696 276 384 467 209 548 318 681 463 589 297 617 502 408 357 653 221 406\n",
            " 220 481 641 362 650 543 674 445 421 448 228 617 510 452 216 349 449 637\n",
            " 459 217 569 352 484 554 518 261 695 481 579 345 514 443 410 251 582 258\n",
            " 604 374 303 321 453 569 341 516 500 330 615 316 330 640 478 440 494 374\n",
            " 363 331 587 446 208 611 533 574 238 429 643 260 522 438 583 394 687 606\n",
            " 568 381 241 354 252 563 622 678 305 406 402 651 361 433 274 201 373 446\n",
            " 477 220 512 447 393 264 291 560 634 301 202 207 433 566 208 617 467 252\n",
            " 354 680 209 287 237 314 494 645 547 648 623 332 419 384 257 426 656 309\n",
            " 431 335 471 267 353 341 471 664 516 294 541 433 558 548 437 624 391 696\n",
            " 239 488]\n"
          ],
          "name": "stdout"
        }
      ]
    },
    {
      "cell_type": "code",
      "metadata": {
        "id": "dRHNlAUsf7ym"
      },
      "source": [
        "LpUrban3=cos(f,loc,tower,user,z)"
      ],
      "execution_count": 33,
      "outputs": []
    },
    {
      "cell_type": "code",
      "metadata": {
        "id": "M30VXfERf-Z1"
      },
      "source": [
        "z_sort=z[np.argsort(z)]\r\n",
        "Urban_sort3=LpUrban3[np.argsort(z)]"
      ],
      "execution_count": 34,
      "outputs": []
    },
    {
      "cell_type": "code",
      "metadata": {
        "colab": {
          "base_uri": "https://localhost:8080/",
          "height": 295
        },
        "id": "kJvC4aUggIaP",
        "outputId": "11146938-7006-40d2-c034-d371cd048a55"
      },
      "source": [
        "plt.figure()\r\n",
        "plt.plot(x_sort,Urban_sort1, label='700 Mhz')\r\n",
        "plt.plot(y_sort,Urban_sort2, label='900 Mhz')\r\n",
        "plt.plot(z_sort,Urban_sort3, label='1800 Mhz')\r\n",
        "plt.legend()\r\n",
        "plt.title('Model Urban (Contoh Gambar)')\r\n",
        "plt.xlabel('Jarak (m)')\r\n",
        "plt.ylabel('Path Loss (dB)')\r\n",
        "plt.show()"
      ],
      "execution_count": 35,
      "outputs": [
        {
          "output_type": "display_data",
          "data": {
            "image/png": "[encoded data removed]",
            "text/plain": [
              "<Figure size 432x288 with 1 Axes>"
            ]
          },
          "metadata": {
            "tags": [],
            "needs_background": "light"
          }
        }
      ]
    },
    {
      "cell_type": "code",
      "metadata": {
        "id": "vfP2WG3UgM0O"
      },
      "source": [
        ""
      ],
      "execution_count": null,
      "outputs": []
    }
  ]
}